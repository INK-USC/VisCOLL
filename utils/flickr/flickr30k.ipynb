{
 "cells": [
  {
   "cell_type": "code",
   "execution_count": 18,
   "metadata": {},
   "outputs": [
    {
     "name": "stdout",
     "output_type": "stream",
     "text": [
      "dict_keys(['train', 'dev', 'val'])\n"
     ]
    }
   ],
   "source": [
    "import pickle\n",
    "\n",
    "obj = pickle.load(open(\"/home/junyi/data/flickr30k/data.pkl\", \"rb\"))\n",
    "print(obj.keys())"
   ]
  },
  {
   "cell_type": "code",
   "execution_count": 19,
   "metadata": {},
   "outputs": [
    {
     "data": {
      "application/json": {
       "caption": "A man in a blue hard hat and orange safety vest stands in an intersection while holding a flag .",
       "id": "dev_0",
       "img_id": "100652400",
       "obj_ids": [
        0,
        5,
        1,
        2
       ]
      },
      "text/plain": [
       "<IPython.core.display.JSON object>"
      ]
     },
     "execution_count": 19,
     "metadata": {
      "application/json": {
       "expanded": false
      }
     },
     "output_type": "execute_result"
    }
   ],
   "source": [
    "import IPython.display as display\n",
    "\n",
    "split = obj[\"dev\"]\n",
    "display.JSON(split[0])"
   ]
  },
  {
   "cell_type": "code",
   "execution_count": 20,
   "metadata": {},
   "outputs": [
    {
     "data": {
      "application/json": {
       "caption": "A man wearing a hard hat and a caution vest is standing in the street waving an orange flag .",
       "id": "dev_1",
       "img_id": "100652400",
       "obj_ids": [
        0,
        5,
        1,
        2
       ]
      },
      "text/plain": [
       "<IPython.core.display.JSON object>"
      ]
     },
     "execution_count": 20,
     "metadata": {
      "application/json": {
       "expanded": false
      }
     },
     "output_type": "execute_result"
    }
   ],
   "source": [
    "display.JSON(split[1])"
   ]
  },
  {
   "cell_type": "code",
   "execution_count": 21,
   "metadata": {},
   "outputs": [
    {
     "data": {
      "application/json": {
       "caption": "A man in bright vest and hard hat holds a flag on a street corner covered in spray paint",
       "id": "dev_2",
       "img_id": "100652400",
       "obj_ids": [
        0,
        5,
        2,
        1
       ]
      },
      "text/plain": [
       "<IPython.core.display.JSON object>"
      ]
     },
     "execution_count": 21,
     "metadata": {
      "application/json": {
       "expanded": false
      }
     },
     "output_type": "execute_result"
    }
   ],
   "source": [
    "display.JSON(split[2])"
   ]
  },
  {
   "cell_type": "code",
   "execution_count": 22,
   "metadata": {},
   "outputs": [
    {
     "data": {
      "application/json": {
       "caption": "A boy sliding down a slide into a pool with colorful tubes .",
       "id": "dev_22",
       "img_id": "1077546505",
       "obj_ids": [
        0,
        1,
        2
       ]
      },
      "text/plain": [
       "<IPython.core.display.JSON object>"
      ]
     },
     "execution_count": 22,
     "metadata": {
      "application/json": {
       "expanded": false
      }
     },
     "output_type": "execute_result"
    }
   ],
   "source": [
    "display.JSON(split[22])"
   ]
  },
  {
   "cell_type": "code",
   "execution_count": 23,
   "metadata": {},
   "outputs": [
    {
     "data": {
      "application/json": {
       "animals": 6,
       "bodyparts": 4,
       "clothing": 5,
       "instruments": 8,
       "notvisual": 3,
       "other": 2,
       "people": 0,
       "scene": 1,
       "vehicles": 7
      },
      "text/plain": [
       "<IPython.core.display.JSON object>"
      ]
     },
     "execution_count": 23,
     "metadata": {
      "application/json": {
       "expanded": false
      }
     },
     "output_type": "execute_result"
    }
   ],
   "source": [
    "types = pickle.load(open(\"/home/junyi/data/flickr30k/entity_types.pkl\", \"rb\"))\n",
    "display.JSON(types)"
   ]
  },
  {
   "cell_type": "code",
   "execution_count": 24,
   "metadata": {},
   "outputs": [
    {
     "data": {
      "application/json": {
       "0": "people",
       "1": "scene",
       "2": "other",
       "3": "notvisual",
       "4": "bodyparts",
       "5": "clothing",
       "6": "animals",
       "7": "vehicles",
       "8": "instruments"
      },
      "text/plain": [
       "<IPython.core.display.JSON object>"
      ]
     },
     "execution_count": 24,
     "metadata": {
      "application/json": {
       "expanded": false
      }
     },
     "output_type": "execute_result"
    }
   ],
   "source": [
    "types_inv = {types[key] : key for key in list(types.keys())}\n",
    "display.JSON(types_inv)"
   ]
  },
  {
   "cell_type": "code",
   "execution_count": null,
   "metadata": {},
   "outputs": [],
   "source": []
  }
 ],
 "metadata": {
  "kernelspec": {
   "display_name": "Python 3",
   "language": "python",
   "name": "python3"
  },
  "language_info": {
   "codemirror_mode": {
    "name": "ipython",
    "version": 3
   },
   "file_extension": ".py",
   "mimetype": "text/x-python",
   "name": "python",
   "nbconvert_exporter": "python",
   "pygments_lexer": "ipython3",
   "version": "3.6.5"
  }
 },
 "nbformat": 4,
 "nbformat_minor": 2
}
